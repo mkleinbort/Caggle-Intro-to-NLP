{
 "cells": [
  {
   "cell_type": "code",
   "execution_count": 22,
   "metadata": {},
   "outputs": [],
   "source": [
    "import pandas as pd # Library to load tabular data\n",
    "pd.set_option('max_columns', 50)"
   ]
  },
  {
   "cell_type": "markdown",
   "metadata": {},
   "source": [
    "# Loading the data\n",
    "\n",
    "Note that here I'm pretending like 10% of the data is unlabeled"
   ]
  },
  {
   "cell_type": "code",
   "execution_count": 23,
   "metadata": {},
   "outputs": [],
   "source": [
    "all_data = pd.read_csv('https://raw.githubusercontent.com/mkleinbort/resource-datasets/master/ny_times_comments/CommentsApril2017_9000_interesting_columns.csv')\n",
    "\n",
    "data_train = all_data.loc[lambda x: x.index%10 != 0]\n",
    "data_test = all_data.loc[lambda x: x.index%10 == 0].drop(columns=['editorsSelection'])"
   ]
  },
  {
   "cell_type": "code",
   "execution_count": 24,
   "metadata": {},
   "outputs": [
    {
     "data": {
      "text/plain": [
       "(8100, 22)"
      ]
     },
     "execution_count": 24,
     "metadata": {},
     "output_type": "execute_result"
    }
   ],
   "source": [
    "data_train.shape"
   ]
  },
  {
   "cell_type": "code",
   "execution_count": 25,
   "metadata": {},
   "outputs": [
    {
     "data": {
      "text/plain": [
       "(900, 21)"
      ]
     },
     "execution_count": 25,
     "metadata": {},
     "output_type": "execute_result"
    }
   ],
   "source": [
    "data_test.shape"
   ]
  },
  {
   "cell_type": "markdown",
   "metadata": {},
   "source": [
    "# What do we want to learn?"
   ]
  },
  {
   "cell_type": "code",
   "execution_count": 26,
   "metadata": {},
   "outputs": [],
   "source": [
    "y = data_train['editorsSelection'] # Did the NY Times Editor choose to feature the comment"
   ]
  },
  {
   "cell_type": "markdown",
   "metadata": {},
   "source": [
    "# What do we have available to make this prediction?\n",
    "\n",
    "Here we need to think a little, and figure out what will be available at the time when we want to make our prediction. We have many features including:\n",
    "- approveDate\n",
    "- commentBody\n",
    "- commentType\n",
    "- createDate\n",
    "- parentUserDisplayName\n",
    "- replyCoun\n",
    "- sharing\n",
    "- timespeople\n",
    "- trusted\n",
    "- updateDate\n",
    "- userDisplayNam\n",
    "- userLocation\n",
    "- inReplyTo\n",
    "- sectionName\n",
    "- newDesk\n",
    "- articleWordCount\n",
    "- printPage\n",
    "- typeOfMaterial\n",
    "\n",
    "\n",
    "But many of these features are only available AFTER the prediction would have been useful. For example, is it useful to predict whether a comment will be featured by the editor if we MUST know ahead of time how many people will reply to the comment?\n",
    "\n",
    "For right now, let's assume we only know:\n",
    "- The articleWordCount\n",
    "- The typeOfMaterial\n",
    "- The commentBody\n",
    "- The commentType"
   ]
  },
  {
   "cell_type": "markdown",
   "metadata": {},
   "source": [
    "# Model Part 1: Prepare the data\n",
    "\n",
    "Somehow we need to make X into a table of only numbers. However, X is far from being numeric right now"
   ]
  },
  {
   "cell_type": "code",
   "execution_count": 32,
   "metadata": {},
   "outputs": [
    {
     "data": {
      "text/html": [
       "<div>\n",
       "<style scoped>\n",
       "    .dataframe tbody tr th:only-of-type {\n",
       "        vertical-align: middle;\n",
       "    }\n",
       "\n",
       "    .dataframe tbody tr th {\n",
       "        vertical-align: top;\n",
       "    }\n",
       "\n",
       "    .dataframe thead th {\n",
       "        text-align: right;\n",
       "    }\n",
       "</style>\n",
       "<table border=\"1\" class=\"dataframe\">\n",
       "  <thead>\n",
       "    <tr style=\"text-align: right;\">\n",
       "      <th></th>\n",
       "      <th>articleWordCount</th>\n",
       "      <th>typeOfMaterial</th>\n",
       "      <th>commentType</th>\n",
       "      <th>commentBody</th>\n",
       "    </tr>\n",
       "  </thead>\n",
       "  <tbody>\n",
       "    <tr>\n",
       "      <th>1</th>\n",
       "      <td>828.0</td>\n",
       "      <td>Op-Ed</td>\n",
       "      <td>comment</td>\n",
       "      <td>Mining for coal and oil have caused untold dis...</td>\n",
       "    </tr>\n",
       "    <tr>\n",
       "      <th>2</th>\n",
       "      <td>648.0</td>\n",
       "      <td>News</td>\n",
       "      <td>comment</td>\n",
       "      <td>Congratulations NYT for excellent work for you...</td>\n",
       "    </tr>\n",
       "    <tr>\n",
       "      <th>3</th>\n",
       "      <td>1226.0</td>\n",
       "      <td>News</td>\n",
       "      <td>comment</td>\n",
       "      <td>If you want to beat Facebook, just provide vid...</td>\n",
       "    </tr>\n",
       "    <tr>\n",
       "      <th>4</th>\n",
       "      <td>4611.0</td>\n",
       "      <td>News</td>\n",
       "      <td>comment</td>\n",
       "      <td>will trump turn out to be the American Right's...</td>\n",
       "    </tr>\n",
       "    <tr>\n",
       "      <th>5</th>\n",
       "      <td>1358.0</td>\n",
       "      <td>Op-Ed</td>\n",
       "      <td>comment</td>\n",
       "      <td>King was not the happy warrior that Common Wis...</td>\n",
       "    </tr>\n",
       "  </tbody>\n",
       "</table>\n",
       "</div>"
      ],
      "text/plain": [
       "   articleWordCount typeOfMaterial commentType  \\\n",
       "1             828.0          Op-Ed     comment   \n",
       "2             648.0           News     comment   \n",
       "3            1226.0           News     comment   \n",
       "4            4611.0           News     comment   \n",
       "5            1358.0          Op-Ed     comment   \n",
       "\n",
       "                                         commentBody  \n",
       "1  Mining for coal and oil have caused untold dis...  \n",
       "2  Congratulations NYT for excellent work for you...  \n",
       "3  If you want to beat Facebook, just provide vid...  \n",
       "4  will trump turn out to be the American Right's...  \n",
       "5  King was not the happy warrior that Common Wis...  "
      ]
     },
     "execution_count": 32,
     "metadata": {},
     "output_type": "execute_result"
    }
   ],
   "source": [
    "FEATURES = ['articleWordCount','typeOfMaterial','commentType', 'commentBody']\n",
    "\n",
    "X = data_train.loc[:, FEATURES] # Select all rows, and only these columns\n",
    "\n",
    "X.head()"
   ]
  },
  {
   "cell_type": "markdown",
   "metadata": {},
   "source": [
    "We need to make each row into only numbers. Here is one approach:"
   ]
  },
  {
   "cell_type": "code",
   "execution_count": 40,
   "metadata": {},
   "outputs": [],
   "source": [
    "# Note: This is very slow code, and not \"The way to do it\", but it's easy to read\n",
    "\n",
    "def turn_row_into_numbers(row):\n",
    "    answer = {} # Start a new dictionary\n",
    "    \n",
    "    answer['articleWordCount'] = row['articleWordCount']\n",
    "    answer['commentWordCount'] = len(row['commentBody'].split())\n",
    "    answer['typeOfMaterial: ' + row['typeOfMaterial']] = 1\n",
    "    answer['commentType: ' + row['commentType']] = 1\n",
    "    \n",
    "    return pd.Series(answer) # This will make the full output a dataframe\n",
    "\n",
    "X_train = (X\n",
    " .apply(turn_row_into_numbers, axis=1)  # Axis=1 means \"apply this function to each row\"\n",
    " .fillna(0) # The way we turned the row into numbers, this is needed to fill in the \n",
    ")"
   ]
  },
  {
   "cell_type": "code",
   "execution_count": 41,
   "metadata": {},
   "outputs": [
    {
     "data": {
      "text/html": [
       "<div>\n",
       "<style scoped>\n",
       "    .dataframe tbody tr th:only-of-type {\n",
       "        vertical-align: middle;\n",
       "    }\n",
       "\n",
       "    .dataframe tbody tr th {\n",
       "        vertical-align: top;\n",
       "    }\n",
       "\n",
       "    .dataframe thead th {\n",
       "        text-align: right;\n",
       "    }\n",
       "</style>\n",
       "<table border=\"1\" class=\"dataframe\">\n",
       "  <thead>\n",
       "    <tr style=\"text-align: right;\">\n",
       "      <th></th>\n",
       "      <th>articleWordCount</th>\n",
       "      <th>commentType: comment</th>\n",
       "      <th>commentType: reporterReply</th>\n",
       "      <th>commentType: userReply</th>\n",
       "      <th>commentWordCount</th>\n",
       "      <th>typeOfMaterial: Blog</th>\n",
       "      <th>typeOfMaterial: Brief</th>\n",
       "      <th>typeOfMaterial: Editorial</th>\n",
       "      <th>typeOfMaterial: News</th>\n",
       "      <th>typeOfMaterial: News Analysis</th>\n",
       "      <th>typeOfMaterial: Obituary (Obit)</th>\n",
       "      <th>typeOfMaterial: Op-Ed</th>\n",
       "      <th>typeOfMaterial: Review</th>\n",
       "      <th>typeOfMaterial: briefing</th>\n",
       "    </tr>\n",
       "  </thead>\n",
       "  <tbody>\n",
       "    <tr>\n",
       "      <th>1</th>\n",
       "      <td>828.0</td>\n",
       "      <td>1.0</td>\n",
       "      <td>0.0</td>\n",
       "      <td>0.0</td>\n",
       "      <td>50.0</td>\n",
       "      <td>0.0</td>\n",
       "      <td>0.0</td>\n",
       "      <td>0.0</td>\n",
       "      <td>0.0</td>\n",
       "      <td>0.0</td>\n",
       "      <td>0.0</td>\n",
       "      <td>1.0</td>\n",
       "      <td>0.0</td>\n",
       "      <td>0.0</td>\n",
       "    </tr>\n",
       "    <tr>\n",
       "      <th>2</th>\n",
       "      <td>648.0</td>\n",
       "      <td>1.0</td>\n",
       "      <td>0.0</td>\n",
       "      <td>0.0</td>\n",
       "      <td>149.0</td>\n",
       "      <td>0.0</td>\n",
       "      <td>0.0</td>\n",
       "      <td>0.0</td>\n",
       "      <td>1.0</td>\n",
       "      <td>0.0</td>\n",
       "      <td>0.0</td>\n",
       "      <td>0.0</td>\n",
       "      <td>0.0</td>\n",
       "      <td>0.0</td>\n",
       "    </tr>\n",
       "    <tr>\n",
       "      <th>3</th>\n",
       "      <td>1226.0</td>\n",
       "      <td>1.0</td>\n",
       "      <td>0.0</td>\n",
       "      <td>0.0</td>\n",
       "      <td>16.0</td>\n",
       "      <td>0.0</td>\n",
       "      <td>0.0</td>\n",
       "      <td>0.0</td>\n",
       "      <td>1.0</td>\n",
       "      <td>0.0</td>\n",
       "      <td>0.0</td>\n",
       "      <td>0.0</td>\n",
       "      <td>0.0</td>\n",
       "      <td>0.0</td>\n",
       "    </tr>\n",
       "    <tr>\n",
       "      <th>4</th>\n",
       "      <td>4611.0</td>\n",
       "      <td>1.0</td>\n",
       "      <td>0.0</td>\n",
       "      <td>0.0</td>\n",
       "      <td>27.0</td>\n",
       "      <td>0.0</td>\n",
       "      <td>0.0</td>\n",
       "      <td>0.0</td>\n",
       "      <td>1.0</td>\n",
       "      <td>0.0</td>\n",
       "      <td>0.0</td>\n",
       "      <td>0.0</td>\n",
       "      <td>0.0</td>\n",
       "      <td>0.0</td>\n",
       "    </tr>\n",
       "    <tr>\n",
       "      <th>5</th>\n",
       "      <td>1358.0</td>\n",
       "      <td>1.0</td>\n",
       "      <td>0.0</td>\n",
       "      <td>0.0</td>\n",
       "      <td>22.0</td>\n",
       "      <td>0.0</td>\n",
       "      <td>0.0</td>\n",
       "      <td>0.0</td>\n",
       "      <td>0.0</td>\n",
       "      <td>0.0</td>\n",
       "      <td>0.0</td>\n",
       "      <td>1.0</td>\n",
       "      <td>0.0</td>\n",
       "      <td>0.0</td>\n",
       "    </tr>\n",
       "  </tbody>\n",
       "</table>\n",
       "</div>"
      ],
      "text/plain": [
       "   articleWordCount  commentType: comment  commentType: reporterReply  \\\n",
       "1             828.0                   1.0                         0.0   \n",
       "2             648.0                   1.0                         0.0   \n",
       "3            1226.0                   1.0                         0.0   \n",
       "4            4611.0                   1.0                         0.0   \n",
       "5            1358.0                   1.0                         0.0   \n",
       "\n",
       "   commentType: userReply  commentWordCount  typeOfMaterial: Blog  \\\n",
       "1                     0.0              50.0                   0.0   \n",
       "2                     0.0             149.0                   0.0   \n",
       "3                     0.0              16.0                   0.0   \n",
       "4                     0.0              27.0                   0.0   \n",
       "5                     0.0              22.0                   0.0   \n",
       "\n",
       "   typeOfMaterial: Brief  typeOfMaterial: Editorial  typeOfMaterial: News  \\\n",
       "1                    0.0                        0.0                   0.0   \n",
       "2                    0.0                        0.0                   1.0   \n",
       "3                    0.0                        0.0                   1.0   \n",
       "4                    0.0                        0.0                   1.0   \n",
       "5                    0.0                        0.0                   0.0   \n",
       "\n",
       "   typeOfMaterial: News Analysis  typeOfMaterial: Obituary (Obit)  \\\n",
       "1                            0.0                              0.0   \n",
       "2                            0.0                              0.0   \n",
       "3                            0.0                              0.0   \n",
       "4                            0.0                              0.0   \n",
       "5                            0.0                              0.0   \n",
       "\n",
       "   typeOfMaterial: Op-Ed  typeOfMaterial: Review  typeOfMaterial: briefing  \n",
       "1                    1.0                     0.0                       0.0  \n",
       "2                    0.0                     0.0                       0.0  \n",
       "3                    0.0                     0.0                       0.0  \n",
       "4                    0.0                     0.0                       0.0  \n",
       "5                    1.0                     0.0                       0.0  "
      ]
     },
     "execution_count": 41,
     "metadata": {},
     "output_type": "execute_result"
    }
   ],
   "source": [
    "X2.head()"
   ]
  },
  {
   "cell_type": "markdown",
   "metadata": {},
   "source": [
    "# Part Model Part 1 - Continued: Prepare the test data In exactly the same way \n",
    "\n",
    "It's very easy for things to go wrong here. As a gut feeling, most of all hard to debug issues come from the test data being processed slightly differently from the training data."
   ]
  },
  {
   "cell_type": "code",
   "execution_count": 45,
   "metadata": {},
   "outputs": [
    {
     "data": {
      "text/html": [
       "<div>\n",
       "<style scoped>\n",
       "    .dataframe tbody tr th:only-of-type {\n",
       "        vertical-align: middle;\n",
       "    }\n",
       "\n",
       "    .dataframe tbody tr th {\n",
       "        vertical-align: top;\n",
       "    }\n",
       "\n",
       "    .dataframe thead th {\n",
       "        text-align: right;\n",
       "    }\n",
       "</style>\n",
       "<table border=\"1\" class=\"dataframe\">\n",
       "  <thead>\n",
       "    <tr style=\"text-align: right;\">\n",
       "      <th></th>\n",
       "      <th>articleWordCount</th>\n",
       "      <th>commentType: comment</th>\n",
       "      <th>commentType: reporterReply</th>\n",
       "      <th>commentType: userReply</th>\n",
       "      <th>commentWordCount</th>\n",
       "      <th>typeOfMaterial: Blog</th>\n",
       "      <th>typeOfMaterial: Brief</th>\n",
       "      <th>typeOfMaterial: Editorial</th>\n",
       "      <th>typeOfMaterial: News</th>\n",
       "      <th>typeOfMaterial: News Analysis</th>\n",
       "      <th>typeOfMaterial: Obituary (Obit)</th>\n",
       "      <th>typeOfMaterial: Op-Ed</th>\n",
       "      <th>typeOfMaterial: Review</th>\n",
       "      <th>typeOfMaterial: briefing</th>\n",
       "    </tr>\n",
       "  </thead>\n",
       "  <tbody>\n",
       "    <tr>\n",
       "      <th>0</th>\n",
       "      <td>1230.0</td>\n",
       "      <td>0.0</td>\n",
       "      <td>0.0</td>\n",
       "      <td>1.0</td>\n",
       "      <td>16.0</td>\n",
       "      <td>0.0</td>\n",
       "      <td>0.0</td>\n",
       "      <td>0.0</td>\n",
       "      <td>1.0</td>\n",
       "      <td>0.0</td>\n",
       "      <td>0.0</td>\n",
       "      <td>0.0</td>\n",
       "      <td>0.0</td>\n",
       "      <td>0.0</td>\n",
       "    </tr>\n",
       "    <tr>\n",
       "      <th>10</th>\n",
       "      <td>1418.0</td>\n",
       "      <td>0.0</td>\n",
       "      <td>0.0</td>\n",
       "      <td>1.0</td>\n",
       "      <td>26.0</td>\n",
       "      <td>0.0</td>\n",
       "      <td>0.0</td>\n",
       "      <td>0.0</td>\n",
       "      <td>1.0</td>\n",
       "      <td>0.0</td>\n",
       "      <td>0.0</td>\n",
       "      <td>0.0</td>\n",
       "      <td>0.0</td>\n",
       "      <td>0.0</td>\n",
       "    </tr>\n",
       "    <tr>\n",
       "      <th>20</th>\n",
       "      <td>1250.0</td>\n",
       "      <td>1.0</td>\n",
       "      <td>0.0</td>\n",
       "      <td>0.0</td>\n",
       "      <td>16.0</td>\n",
       "      <td>0.0</td>\n",
       "      <td>0.0</td>\n",
       "      <td>0.0</td>\n",
       "      <td>0.0</td>\n",
       "      <td>0.0</td>\n",
       "      <td>0.0</td>\n",
       "      <td>1.0</td>\n",
       "      <td>0.0</td>\n",
       "      <td>0.0</td>\n",
       "    </tr>\n",
       "    <tr>\n",
       "      <th>30</th>\n",
       "      <td>3770.0</td>\n",
       "      <td>0.0</td>\n",
       "      <td>0.0</td>\n",
       "      <td>1.0</td>\n",
       "      <td>10.0</td>\n",
       "      <td>0.0</td>\n",
       "      <td>0.0</td>\n",
       "      <td>0.0</td>\n",
       "      <td>0.0</td>\n",
       "      <td>0.0</td>\n",
       "      <td>0.0</td>\n",
       "      <td>1.0</td>\n",
       "      <td>0.0</td>\n",
       "      <td>0.0</td>\n",
       "    </tr>\n",
       "    <tr>\n",
       "      <th>40</th>\n",
       "      <td>1376.0</td>\n",
       "      <td>1.0</td>\n",
       "      <td>0.0</td>\n",
       "      <td>0.0</td>\n",
       "      <td>6.0</td>\n",
       "      <td>0.0</td>\n",
       "      <td>0.0</td>\n",
       "      <td>0.0</td>\n",
       "      <td>1.0</td>\n",
       "      <td>0.0</td>\n",
       "      <td>0.0</td>\n",
       "      <td>0.0</td>\n",
       "      <td>0.0</td>\n",
       "      <td>0.0</td>\n",
       "    </tr>\n",
       "  </tbody>\n",
       "</table>\n",
       "</div>"
      ],
      "text/plain": [
       "    articleWordCount  commentType: comment  commentType: reporterReply  \\\n",
       "0             1230.0                   0.0                         0.0   \n",
       "10            1418.0                   0.0                         0.0   \n",
       "20            1250.0                   1.0                         0.0   \n",
       "30            3770.0                   0.0                         0.0   \n",
       "40            1376.0                   1.0                         0.0   \n",
       "\n",
       "    commentType: userReply  commentWordCount  typeOfMaterial: Blog  \\\n",
       "0                      1.0              16.0                   0.0   \n",
       "10                     1.0              26.0                   0.0   \n",
       "20                     0.0              16.0                   0.0   \n",
       "30                     1.0              10.0                   0.0   \n",
       "40                     0.0               6.0                   0.0   \n",
       "\n",
       "    typeOfMaterial: Brief  typeOfMaterial: Editorial  typeOfMaterial: News  \\\n",
       "0                     0.0                        0.0                   1.0   \n",
       "10                    0.0                        0.0                   1.0   \n",
       "20                    0.0                        0.0                   0.0   \n",
       "30                    0.0                        0.0                   0.0   \n",
       "40                    0.0                        0.0                   1.0   \n",
       "\n",
       "    typeOfMaterial: News Analysis  typeOfMaterial: Obituary (Obit)  \\\n",
       "0                             0.0                              0.0   \n",
       "10                            0.0                              0.0   \n",
       "20                            0.0                              0.0   \n",
       "30                            0.0                              0.0   \n",
       "40                            0.0                              0.0   \n",
       "\n",
       "    typeOfMaterial: Op-Ed  typeOfMaterial: Review  typeOfMaterial: briefing  \n",
       "0                     0.0                     0.0                       0.0  \n",
       "10                    0.0                     0.0                       0.0  \n",
       "20                    1.0                     0.0                       0.0  \n",
       "30                    1.0                     0.0                       0.0  \n",
       "40                    0.0                     0.0                       0.0  "
      ]
     },
     "execution_count": 45,
     "metadata": {},
     "output_type": "execute_result"
    }
   ],
   "source": [
    "# Again, this is not \"good\" code, just showing how it could be done\n",
    "\n",
    "X_test = (data_test\n",
    "             .loc[:, FEATURES] # Select the same features\n",
    "             .apply(turn_row_into_numbers, axis=1)  # Apply the same transformations\n",
    "             .loc[:, X_train.columns] # Keep columns in the same order\n",
    "             .fillna(0) # Fill in missing numbers the same way\n",
    "         )\n",
    "\n",
    "X_test.head()"
   ]
  },
  {
   "cell_type": "markdown",
   "metadata": {},
   "source": [
    "# Model Part 2: Building and training an ML model"
   ]
  },
  {
   "cell_type": "code",
   "execution_count": 46,
   "metadata": {},
   "outputs": [
    {
     "data": {
      "text/plain": [
       "GridSearchCV(cv=5, error_score=nan,\n",
       "             estimator=RandomForestClassifier(bootstrap=True, ccp_alpha=0.0,\n",
       "                                              class_weight=None,\n",
       "                                              criterion='gini', max_depth=None,\n",
       "                                              max_features='auto',\n",
       "                                              max_leaf_nodes=None,\n",
       "                                              max_samples=None,\n",
       "                                              min_impurity_decrease=0.0,\n",
       "                                              min_impurity_split=None,\n",
       "                                              min_samples_leaf=1,\n",
       "                                              min_samples_split=2,\n",
       "                                              min_weight_fraction_leaf=0.0,\n",
       "                                              n_estimators=200, n_jobs=None,\n",
       "                                              oob_score=False,\n",
       "                                              random_state=None, verbose=0,\n",
       "                                              warm_start=False),\n",
       "             iid='deprecated', n_jobs=None, param_grid={},\n",
       "             pre_dispatch='2*n_jobs', refit=True, return_train_score=False,\n",
       "             scoring=None, verbose=0)"
      ]
     },
     "execution_count": 46,
     "metadata": {},
     "output_type": "execute_result"
    }
   ],
   "source": [
    "from sklearn.ensemble import RandomForestClassifier\n",
    "from sklearn.model_selection import GridSearchCV\n",
    "\n",
    "model = GridSearchCV(RandomForestClassifier(n_estimators=200), param_grid={}, cv=5)\n",
    "\n",
    "model.fit(X_train, y)"
   ]
  },
  {
   "cell_type": "markdown",
   "metadata": {},
   "source": [
    "# Part 3: Estimating model performance and making predictions"
   ]
  },
  {
   "cell_type": "code",
   "execution_count": 51,
   "metadata": {},
   "outputs": [
    {
     "data": {
      "text/plain": [
       "True     0.5\n",
       "False    0.5\n",
       "Name: editorsSelection, dtype: float64"
      ]
     },
     "execution_count": 51,
     "metadata": {},
     "output_type": "execute_result"
    }
   ],
   "source": [
    "y.value_counts(normalize=True) # Check accuracy of a random guess"
   ]
  },
  {
   "cell_type": "code",
   "execution_count": 52,
   "metadata": {},
   "outputs": [
    {
     "data": {
      "text/html": [
       "<div>\n",
       "<style scoped>\n",
       "    .dataframe tbody tr th:only-of-type {\n",
       "        vertical-align: middle;\n",
       "    }\n",
       "\n",
       "    .dataframe tbody tr th {\n",
       "        vertical-align: top;\n",
       "    }\n",
       "\n",
       "    .dataframe thead th {\n",
       "        text-align: right;\n",
       "    }\n",
       "</style>\n",
       "<table border=\"1\" class=\"dataframe\">\n",
       "  <thead>\n",
       "    <tr style=\"text-align: right;\">\n",
       "      <th></th>\n",
       "      <th>mean_fit_time</th>\n",
       "      <th>std_fit_time</th>\n",
       "      <th>mean_score_time</th>\n",
       "      <th>std_score_time</th>\n",
       "      <th>params</th>\n",
       "      <th>split0_test_score</th>\n",
       "      <th>split1_test_score</th>\n",
       "      <th>split2_test_score</th>\n",
       "      <th>split3_test_score</th>\n",
       "      <th>split4_test_score</th>\n",
       "      <th>mean_test_score</th>\n",
       "      <th>std_test_score</th>\n",
       "      <th>rank_test_score</th>\n",
       "    </tr>\n",
       "  </thead>\n",
       "  <tbody>\n",
       "    <tr>\n",
       "      <th>0</th>\n",
       "      <td>1.479813</td>\n",
       "      <td>0.070108</td>\n",
       "      <td>0.092845</td>\n",
       "      <td>0.007396</td>\n",
       "      <td>{}</td>\n",
       "      <td>0.662346</td>\n",
       "      <td>0.656173</td>\n",
       "      <td>0.671605</td>\n",
       "      <td>0.666049</td>\n",
       "      <td>0.640741</td>\n",
       "      <td>0.659383</td>\n",
       "      <td>0.010587</td>\n",
       "      <td>1</td>\n",
       "    </tr>\n",
       "  </tbody>\n",
       "</table>\n",
       "</div>"
      ],
      "text/plain": [
       "   mean_fit_time  std_fit_time  mean_score_time  std_score_time params  \\\n",
       "0       1.479813      0.070108         0.092845        0.007396     {}   \n",
       "\n",
       "   split0_test_score  split1_test_score  split2_test_score  split3_test_score  \\\n",
       "0           0.662346           0.656173           0.671605           0.666049   \n",
       "\n",
       "   split4_test_score  mean_test_score  std_test_score  rank_test_score  \n",
       "0           0.640741         0.659383        0.010587                1  "
      ]
     },
     "execution_count": 52,
     "metadata": {},
     "output_type": "execute_result"
    }
   ],
   "source": [
    "# This trained only one model, with estimated accuracy of 66% (as seen in column: 'mean_test_score')\n",
    "pd.DataFrame(model.cv_results_)"
   ]
  },
  {
   "cell_type": "markdown",
   "metadata": {},
   "source": [
    "this is good in comparison to a random guess, which would only have been 50% accurate"
   ]
  },
  {
   "cell_type": "markdown",
   "metadata": {},
   "source": [
    "### Making Predictions"
   ]
  },
  {
   "cell_type": "code",
   "execution_count": 55,
   "metadata": {},
   "outputs": [
    {
     "data": {
      "text/plain": [
       "0     False\n",
       "10    False\n",
       "20    False\n",
       "30    False\n",
       "40    False\n",
       "dtype: bool"
      ]
     },
     "execution_count": 55,
     "metadata": {},
     "output_type": "execute_result"
    }
   ],
   "source": [
    "prediction_values = model.predict(X_test)\n",
    "predictions = pd.Series(prediction_values, X_test.index)\n",
    "\n",
    "predictions.head()"
   ]
  }
 ],
 "metadata": {
  "kernelspec": {
   "display_name": "Python 3",
   "language": "python",
   "name": "python3"
  },
  "language_info": {
   "codemirror_mode": {
    "name": "ipython",
    "version": 3
   },
   "file_extension": ".py",
   "mimetype": "text/x-python",
   "name": "python",
   "nbconvert_exporter": "python",
   "pygments_lexer": "ipython3",
   "version": "3.6.7"
  }
 },
 "nbformat": 4,
 "nbformat_minor": 2
}
